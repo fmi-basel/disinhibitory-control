{
 "cells": [
  {
   "cell_type": "code",
   "execution_count": 64,
   "metadata": {},
   "outputs": [],
   "source": [
    "\n",
    "import numpy as np\n",
    "import jax.numpy as jnp\n",
    "\n",
    "import os\n",
    "os.environ['CUDA_VISIBLE_DEVICES'] = \"\"\n",
    "\n",
    "from pathlib import Path\n",
    "\n",
    "# PLOTTING\n",
    "import matplotlib as mpl \n",
    "import matplotlib.pyplot as plt\n",
    "mpl.style.use('spiffy')\n",
    "from mpl_toolkits.axes_grid1 import make_axes_locatable\n",
    "from mycolorpy import colorlist as mcp\n",
    "\n",
    "# Local imports\n",
    "from src.core.activation import SoftReLu"
   ]
  },
  {
   "cell_type": "code",
   "execution_count": 65,
   "metadata": {},
   "outputs": [],
   "source": [
    "colors_targets = ['#E09F1F', '#907245']\n",
    "color_fits = ['#00C9B3', '#005B4E']"
   ]
  },
  {
   "attachments": {},
   "cell_type": "markdown",
   "metadata": {},
   "source": [
    "# 1. Sacramento et al. (2018)"
   ]
  },
  {
   "cell_type": "code",
   "execution_count": 66,
   "metadata": {},
   "outputs": [],
   "source": [
    "class Sacramento2018Circuit:\n",
    "    \n",
    "    g_lk = 0.1      # leak conductance\n",
    "    g_B = 1.0       # basal dendrite to soma conductance\n",
    "    g_A = 0.8       # apical dendrite to soma conductance\n",
    "    g_D = 1.0       # dendritic conductance for interneuron\n",
    "    sigma = 0.0     # background noise amplitude\n",
    "    \n",
    "        \n",
    "    wXE: float = 1.0    # input -> e weight\n",
    "    wXI: float = 0.0    # input -> i weight\n",
    "    wIE: float = - 0.55    # i->e weight\n",
    "    wEI: float = 1.0    # e->i weight\n",
    "    \n",
    "    # Solver\n",
    "    dt = 1/50               # 1/tau\n",
    "    n_solver = 600          # number of solver steps\n",
    "        \n",
    "    def __init__(self, act) -> None:\n",
    "        self.act = act\n",
    "\n",
    "    def vectorfield(self, state, t, x, target = None):    \n",
    "        ue, ui = state        \n",
    "                \n",
    "        # dendritic compartments (instantaneous)\n",
    "        v_b = self.wXE * x\n",
    "        v_a = self.wIE * self.act(ui)\n",
    "        v_inh = self.wEI * self.act(ue)\n",
    "        \n",
    "        if target is not None:\n",
    "            v_a += target\n",
    "        \n",
    "        due = - self.g_lk * ue + self.g_B * (v_b - ue) + self.g_A * (v_a - ue) + self.sigma * np.random.randn()\n",
    "        dui = - self.g_lk * ui + self.g_D * (v_inh - ui) + self.sigma * np.random.randn()\n",
    "        \n",
    "        if target is not None:\n",
    "            dui += target\n",
    "        \n",
    "        return np.array([due, dui])\n",
    "            \n",
    "    def solve_euler(self, x, target = None):\n",
    "        \n",
    "        # check if x is a scalar\n",
    "        if np.isscalar(x):\n",
    "            u = np.array([0, 0])            \n",
    "        # otherwise x is a vector\n",
    "        else:\n",
    "            u = np.array([np.zeros(len(x)), np.zeros(len(x))])\n",
    "        \n",
    "        t = 0\n",
    "        for i in range(self.n_solver):\n",
    "            u = u + self.dt * self.vectorfield(u, t, x, target)\n",
    "            t = t + self.dt  \n",
    "            \n",
    "        return u\n",
    "    \n",
    "    def traj_euler(self, x, target = None, u0 = None):\n",
    "        \n",
    "        # check if x is a scalar\n",
    "        if np.isscalar(x):\n",
    "            u = np.array([0, 0])            \n",
    "        # otherwise x is a vector\n",
    "        else:\n",
    "            u = np.array([np.zeros(len(x)), np.zeros(len(x))])\n",
    "        \n",
    "        t = 0\n",
    "        us = [u]\n",
    "        ts = [t]\n",
    "        \n",
    "        for i in range(self.n_solver):\n",
    "            u = u + self.dt * self.vectorfield(u, t, x, target)\n",
    "            t = t + self.dt  \n",
    "            us.append(u)\n",
    "            ts.append(t)\n",
    "            \n",
    "        return np.array(ts), np.array(us)\n",
    "    \n",
    "    def dw_sacramento(self, x_range, target=None):\n",
    "        \n",
    "        state = self.solve_euler(x_range, target=target)\n",
    "        ue, ui = state\n",
    "        v_b = self.wXE * x_range\n",
    "        v_b_hat = v_b * (self.g_B / (self.g_lk + self.g_B + self.g_A))\n",
    "        \n",
    "        dw = x_range * (self.act(ue) - self.act(v_b_hat))\n",
    "        \n",
    "        return state, dw\n",
    "    "
   ]
  },
  {
   "cell_type": "code",
   "execution_count": 67,
   "metadata": {},
   "outputs": [],
   "source": [
    "# PARAMETERS\n",
    "params_act = {\n",
    "    'scale': 1.0,\n",
    "    'sharpness': 1.0,\n",
    "    'shift': 0.0\n",
    "}\n",
    "\n",
    "preact = jnp.linspace(0, 8, 1000)\n",
    "func = SoftReLu(**params_act)\n",
    "\n",
    "model = Sacramento2018Circuit(act=func)\n",
    "model.wXE = np.array([1])"
   ]
  },
  {
   "attachments": {},
   "cell_type": "markdown",
   "metadata": {},
   "source": [
    "### Panel A: Microcircuit with top-down control"
   ]
  },
  {
   "cell_type": "code",
   "execution_count": 68,
   "metadata": {},
   "outputs": [
    {
     "data": {
      "image/png": "[encoded data removed]",
      "text/plain": [
       "<Figure size 160x150 with 1 Axes>"
      ]
     },
     "metadata": {},
     "output_type": "display_data"
    }
   ],
   "source": [
    "# Input\n",
    "preact = jnp.linspace(0, 10, 100)\n",
    "\n",
    "# Targets\n",
    "target_1 = 4.0\n",
    "target_2 = 3.0\n",
    "\n",
    "state_1, dw_1 = model.dw_sacramento(preact, target=target_1)\n",
    "state_2, dw_2 = model.dw_sacramento(preact, target=target_2)\n",
    "\n",
    "# Figure\n",
    "fig, ax = plt.subplots(1, 1, figsize=(1.6, 1.5))\n",
    "\n",
    "# First target\n",
    "uE, uI = state_1\n",
    "rE = model.act(uE)\n",
    "rI = model.act(uI)\n",
    "ax.plot(rE, dw_1, label=r'$r^{\\mathrm{tar}} = $' + '{}'.format(target_1), lw=2, c=colors_targets[0])\n",
    "\n",
    "# Dashed line\n",
    "ax.hlines(0, rE.min(), rE.max(), lw=2, linestyle='--', color='gray', zorder=0)\n",
    "\n",
    "# Draw arrow  from below the dashed line pointing upwards that indicates target_1 on the y axis\n",
    "# Color the arrow in the same color as the line.\n",
    "#ax.annotate('', xy=(target_1, 0.01), xytext=(target_1, -4),\n",
    "#            arrowprops=dict(arrowstyle=\"simple\", color=colors_targets[0], lw=0.5))\n",
    "\n",
    "# Second target\n",
    "uE, uI = state_2\n",
    "rE = model.act(uE)\n",
    "rI = model.act(uI)\n",
    "\n",
    "ax.plot(rE, dw_2, label=r'$r^{\\mathrm{tar}} = $' + '{}'.format(target_2), lw=2, c=colors_targets[1])\n",
    "#ax.annotate('', xy=(target_2, 0.01), xytext=(target_2, -4), \n",
    "#            arrowprops=dict(arrowstyle=\"simple\", color=colors_targets[1], lw=0.5))\n",
    "\n",
    "\n",
    "ax.set_yticks([])\n",
    "ax.set_ylim(-2, 3)\n",
    "\n",
    "ax.set_xlabel('Firing rate ' + r'$r^{\\mathrm{E}}$'+ '[a.u.]')\n",
    "ax.set_ylabel(r'$\\Delta w$')\n",
    "\n",
    "# Make legend and reduce the spacing between legend and plot border\n",
    "# also reduce the length of the legend lines\n",
    "# also reduce vertical spacing between legend entries\n",
    "ax.legend(fontsize=7, loc='upper right', bbox_to_anchor=(1.1, 1.1), frameon=False, borderpad=0.1, handletextpad=0.3, handlelength=1.0, labelspacing=0.2)\n",
    "\n",
    "plt.show()"
   ]
  },
  {
   "attachments": {},
   "cell_type": "markdown",
   "metadata": {},
   "source": [
    "### Panel B: Microcircuit without target"
   ]
  },
  {
   "cell_type": "code",
   "execution_count": 69,
   "metadata": {},
   "outputs": [
    {
     "data": {
      "image/png": "[encoded data removed]",
      "text/plain": [
       "<Figure size 160x150 with 1 Axes>"
      ]
     },
     "metadata": {},
     "output_type": "display_data"
    }
   ],
   "source": [
    "# Input\n",
    "preact = jnp.linspace(0, 13, 100)\n",
    "\n",
    "state, dw = model.dw_sacramento(preact, target=None)\n",
    "\n",
    "# Figure\n",
    "fig, ax = plt.subplots(1, 1, figsize=(1.6, 1.5))\n",
    "\n",
    "uE, uI = state\n",
    "rE = model.act(uE)\n",
    "rI = model.act(uI)\n",
    "ax.plot(rE, dw, label='dw', lw=2, c=color_fits[0])\n",
    "\n",
    "# Dashed line\n",
    "ax.hlines(0, rE.min(), rE.max(), lw=2, linestyle='--', color='gray', zorder=0)\n",
    "\n",
    "ax.set_yticks([])\n",
    "ax.set_ylim(-10, 2)\n",
    "\n",
    "ax.set_xlabel('Firing rate ' + r'$r^{\\mathrm{E}}$'+ '[a.u.]')\n",
    "\n",
    "plt.show()"
   ]
  },
  {
   "attachments": {},
   "cell_type": "markdown",
   "metadata": {},
   "source": [
    "### Panel C: Isolated neuron"
   ]
  },
  {
   "cell_type": "code",
   "execution_count": 70,
   "metadata": {},
   "outputs": [
    {
     "data": {
      "image/png": "[encoded data removed]",
      "text/plain": [
       "<Figure size 160x150 with 2 Axes>"
      ]
     },
     "metadata": {},
     "output_type": "display_data"
    }
   ],
   "source": [
    "preact = jnp.linspace(0, 10, 100)\n",
    "\n",
    "# Figure\n",
    "fig, ax = plt.subplots(1, 1, figsize=(1.6, 1.5))\n",
    "\n",
    "# Isolated neuron plasticity (assuming w=1, x the only input and only externally provided inhibition)\n",
    "list_rI = np.linspace(0.0, 3, 4)\n",
    "colormap = mcp.gen_color(cmap='Blues_r', n=len(list_rI)+2)\n",
    "labels = list_rI\n",
    "\n",
    "# Assume patch clamp is fixing the basal dendritic voltage (i.e. feed-forward input)\n",
    "v_b = preact\n",
    "v_b_hat = v_b_hat = v_b * (model.g_B / (model.g_lk + model.g_B + model.g_A))\n",
    "\n",
    "for rI_idx, rI in enumerate(list_rI):\n",
    "    \n",
    "    # apical voltage is equal to inhibitory rate\n",
    "    v_a = - rI\n",
    "    \n",
    "    # Steady-state membrane potential\n",
    "    ue = (model.g_B * v_b + model.g_A * v_a) / (model.g_lk + model.g_B + model.g_A)\n",
    "    rE = model.act(ue)\n",
    "    \n",
    "    dw = preact * (model.act(ue) - model.act(v_b_hat))\n",
    "    ax.plot (v_b, dw, label=labels[rI_idx], color=colormap[rI_idx], lw=2)\n",
    "    \n",
    "ax.hlines(0, v_b.min(), v_b.max(), lw=2, linestyle='--', color='gray', zorder=0)\n",
    "    \n",
    "divider = make_axes_locatable(ax)\n",
    "cax = divider.append_axes('right', size='5%', pad=0.05)\n",
    "norm = mpl.colors.Normalize(vmin=list_rI.min(), vmax=list_rI.max())\n",
    "cbarMap = mpl.cm.ScalarMappable(cmap=mpl.cm.Blues_r, norm = norm)\n",
    "fig.colorbar(cbarMap, cax=cax, orientation='vertical')\n",
    "cax.set_ylabel(r'$r^{(inh)}$')\n",
    "\n",
    "ax.set_xlabel('Firing rate ' + r'$r^{\\mathrm{E}}$' + '[a.u.]')\n",
    "#ax.set_ylabel(r'$\\Delta w$')\n",
    "\n",
    "ax.set_yticks([])\n",
    "ax.set_ylim(-12, 3)\n",
    "\n",
    "plt.show()"
   ]
  },
  {
   "attachments": {},
   "cell_type": "markdown",
   "metadata": {},
   "source": [
    "# 2. Meulemans et al. (2021, 2022)"
   ]
  },
  {
   "cell_type": "code",
   "execution_count": 71,
   "metadata": {},
   "outputs": [],
   "source": [
    "class Meulemans2021Circuit:   \n",
    "        \n",
    "    wF: float = 1.0    # input weight\n",
    "    alpha: float = 1.0 # control strength\n",
    "    \n",
    "    # Solver\n",
    "    dt = 1/50               # 1/tau\n",
    "    n_solver = 600          # number of solver steps\n",
    "        \n",
    "    def __init__(self, act) -> None:\n",
    "        self.act = act\n",
    "\n",
    "    def vectorfield(self, u, t, x, target = None):           \n",
    "                \n",
    "\n",
    "        du = -u + self.wF * x\n",
    "        \n",
    "        if target is not None:\n",
    "            out = self.act(u)\n",
    "            error = target - out\n",
    "            du += self.alpha * error\n",
    "        \n",
    "        return du\n",
    "            \n",
    "    def solve_euler(self, x, target = None):\n",
    "        \n",
    "        # check if x is a scalar\n",
    "        if np.isscalar(x):\n",
    "            u = np.array([0])            \n",
    "        # otherwise x is a vector\n",
    "        else:\n",
    "            u = np.array([np.zeros(len(x))])\n",
    "        \n",
    "        t = 0\n",
    "        for i in range(self.n_solver):\n",
    "            u = u + self.dt * self.vectorfield(u, t, x, target)\n",
    "            t = t + self.dt  \n",
    "            \n",
    "        return u\n",
    "    \n",
    "    def traj_euler(self, x, target = None, u0 = None):\n",
    "        \n",
    "        # check if x is a scalar\n",
    "        if np.isscalar(x):\n",
    "            u = np.array([0])            \n",
    "        # otherwise x is a vector\n",
    "        else:\n",
    "            u = np.array([np.zeros(len(x))])\n",
    "        \n",
    "        t = 0\n",
    "        us = [u]\n",
    "        ts = [t]\n",
    "        \n",
    "        for i in range(self.n_solver):\n",
    "            u = u + self.dt * self.vectorfield(u, t, x, target)\n",
    "            t = t + self.dt  \n",
    "            us.append(u)\n",
    "            ts.append(t)\n",
    "            \n",
    "        return np.array(ts), np.array(us)\n",
    "    \n",
    "    def dw_meulemans(self, x_range, target=None):\n",
    "        v_b = x_range * self.wF\n",
    "        u = self.solve_euler(x_range, target=target)\n",
    "        dw = x_range * (u - v_b)\n",
    "        \n",
    "        return u, dw"
   ]
  },
  {
   "cell_type": "code",
   "execution_count": 72,
   "metadata": {},
   "outputs": [],
   "source": [
    "# PARAMETERS\n",
    "params_act = {\n",
    "    'scale': 1.0,\n",
    "    'sharpness': 1.0,\n",
    "    'shift': 0.0\n",
    "}\n",
    "\n",
    "preact = jnp.linspace(0, 8, 1000)\n",
    "func = SoftReLu(**params_act)\n",
    "\n",
    "model = Meulemans2021Circuit(act=func)\n",
    "model.wF = np.array([1])"
   ]
  },
  {
   "attachments": {},
   "cell_type": "markdown",
   "metadata": {},
   "source": [
    "### Panel A: Top-down control"
   ]
  },
  {
   "cell_type": "code",
   "execution_count": 73,
   "metadata": {},
   "outputs": [
    {
     "data": {
      "image/png": "[encoded data removed]",
      "text/plain": [
       "<Figure size 160x150 with 1 Axes>"
      ]
     },
     "metadata": {},
     "output_type": "display_data"
    }
   ],
   "source": [
    "# Input\n",
    "preact = jnp.linspace(0, 5, 100)\n",
    "\n",
    "# Targets\n",
    "target_1 = 4.0\n",
    "target_2 = 3.0\n",
    "\n",
    "state_1, dw_1 = model.dw_meulemans(preact, target=target_1)\n",
    "state_2, dw_2 = model.dw_meulemans(preact, target=target_2)\n",
    "\n",
    "# Figure\n",
    "fig, ax = plt.subplots(1, 1, figsize=(1.6, 1.5))\n",
    "\n",
    "# First target\n",
    "u = state_1\n",
    "rE = model.act(u)\n",
    "ax.plot(rE[0], dw_1[0], label=r'$r^{\\mathrm{tar}} = $' + '{}'.format(target_1), lw=2, c=colors_targets[0])\n",
    "\n",
    "rEmin = rE.min()\n",
    "rEmax = rE.max()\n",
    "\n",
    "# Second target\n",
    "uE = state_2\n",
    "rE = model.act(uE)\n",
    "\n",
    "ax.plot(rE[0], dw_2[0], label=r'$r^{\\mathrm{tar}} = $' + '{}'.format(target_2), lw=2, c=colors_targets[1])\n",
    "#ax.annotate('', xy=(target_2, 0.01), xytext=(target_2, -4), \n",
    "#            arrowprops=dict(arrowstyle=\"simple\", color=colors_targets[1], lw=0.5))\n",
    "\n",
    "rEmin = min(rEmin, rE.min())\n",
    "rEmax = max(rEmax, rE.max())\n",
    "\n",
    "ax.hlines(0, rEmin, rEmax, lw=2, linestyle='--', color='gray', zorder=0)\n",
    "\n",
    "ax.set_yticks([])\n",
    "ax.set_ylim(-2, 3)\n",
    "\n",
    "ax.set_xlabel('Firing rate ' + r'$r^{\\mathrm{E}}$'+ '[a.u.]')\n",
    "ax.set_ylabel(r'$\\Delta w$')\n",
    "\n",
    "plt.show()"
   ]
  },
  {
   "attachments": {},
   "cell_type": "markdown",
   "metadata": {},
   "source": [
    "### Panel B: Microcircuit without target"
   ]
  },
  {
   "cell_type": "code",
   "execution_count": 74,
   "metadata": {},
   "outputs": [
    {
     "data": {
      "image/png": "[encoded data removed]",
      "text/plain": [
       "<Figure size 160x150 with 1 Axes>"
      ]
     },
     "metadata": {},
     "output_type": "display_data"
    }
   ],
   "source": [
    "# Input\n",
    "preact = jnp.linspace(0, 13, 100)\n",
    "\n",
    "state, dw = model.dw_meulemans(preact, target=None)\n",
    "\n",
    "# Figure\n",
    "fig, ax = plt.subplots(1, 1, figsize=(1.6, 1.5))\n",
    "\n",
    "uE = state\n",
    "rE = model.act(uE)\n",
    "ax.plot(rE[0], dw[0], label='dw', lw=2, c=color_fits[0])\n",
    "\n",
    "# Dashed line\n",
    "ax.hlines(0, rE.min(), rE.max(), lw=2, linestyle='--', color='gray', zorder=0)\n",
    "\n",
    "ax.set_yticks([])\n",
    "ax.set_ylim(-5, 12)\n",
    "ax.set_xlabel('Firing rate ' + r'$r^{\\mathrm{E}}$'+ '[a.u.]')\n",
    "\n",
    "plt.show()"
   ]
  },
  {
   "attachments": {},
   "cell_type": "markdown",
   "metadata": {},
   "source": [
    "### Panel C: Varying levels of inhibition\n",
    "\n",
    "Because the learning rule computes the difference between basal and somatic potentials, we assume that the patch clamp fixes the basal potential while inhibitory current affects the somatic membrane potential"
   ]
  },
  {
   "cell_type": "code",
   "execution_count": 75,
   "metadata": {},
   "outputs": [
    {
     "data": {
      "image/png": "[encoded data removed]",
      "text/plain": [
       "<Figure size 160x150 with 2 Axes>"
      ]
     },
     "metadata": {},
     "output_type": "display_data"
    }
   ],
   "source": [
    "preact = jnp.linspace(0, 10, 100)\n",
    "\n",
    "# Figure\n",
    "fig, ax = plt.subplots(1, 1, figsize=(1.6, 1.5))\n",
    "\n",
    "# Isolated neuron plasticity (assuming w=1, x the only input and only externally provided inhibition)\n",
    "list_rI = np.linspace(0.0, 3, 4)\n",
    "colormap = mcp.gen_color(cmap='Blues_r', n=len(list_rI)+2)\n",
    "labels = list_rI\n",
    "\n",
    "# Assume patch clamp is fixing the basal dendritic voltage (i.e. feed-forward input)\n",
    "v_b = preact\n",
    "\n",
    "for rI_idx, rI in enumerate(list_rI):\n",
    "    \n",
    "    \n",
    "    # Steady-state membrane potential\n",
    "    ue = v_b - rI\n",
    "    rE = model.act(ue)\n",
    "    \n",
    "    dw = preact * (ue - v_b)\n",
    "    ax.plot (v_b, dw, label=labels[rI_idx], color=colormap[rI_idx], lw=2)\n",
    "    \n",
    "ax.hlines(0, v_b.min(), v_b.max(), lw=2, linestyle='--', color='gray', zorder=0)\n",
    "    \n",
    "divider = make_axes_locatable(ax)\n",
    "cax = divider.append_axes('right', size='5%', pad=0.05)\n",
    "norm = mpl.colors.Normalize(vmin=list_rI.min(), vmax=list_rI.max())\n",
    "cbarMap = mpl.cm.ScalarMappable(cmap=mpl.cm.Blues_r, norm = norm)\n",
    "fig.colorbar(cbarMap, cax=cax, orientation='vertical')\n",
    "cax.set_ylabel(r'$r^{(inh)}$')\n",
    "\n",
    "ax.set_xlabel(r'Dend. voltage $v_b$' + '[a.u.]')\n",
    "\n",
    "ax.set_yticks([])\n",
    "ax.set_ylim(-12, 3)\n",
    "\n",
    "plt.show()"
   ]
  },
  {
   "attachments": {},
   "cell_type": "markdown",
   "metadata": {},
   "source": [
    "# 3. Payeur et al. (2021)"
   ]
  },
  {
   "cell_type": "code",
   "execution_count": 76,
   "metadata": {},
   "outputs": [],
   "source": [
    "class Payeur2021Circuit:\n",
    "    \n",
    "    wXE: float = 1.0    # input -> e weight\n",
    "    alpha: float = 0.0  \n",
    "    beta: float = 1.0\n",
    "    \n",
    "    # Solver\n",
    "    dt = 1/50               # 1/tau\n",
    "    n_solver = 600          # number of solver steps\n",
    "        \n",
    "    def __init__(self, act) -> None:\n",
    "        self.act = act\n",
    "        \n",
    "        # sigmoid function\n",
    "        self.sigma = lambda x: 1 / (1 + np.exp(-x))\n",
    "\n",
    "    def dynamics(self, x, target = None):    \n",
    "        \n",
    "        # event rate \n",
    "        v = self.wXE * x\n",
    "        e = self.act(v)\n",
    "        \n",
    "        if target is not None:\n",
    "            error = target - e\n",
    "            u = error\n",
    "        else:\n",
    "            u = 0\n",
    "            \n",
    "        # burst probability\n",
    "        p = self.sigma(self.beta * u + self.alpha)\n",
    "        \n",
    "        # burst rate\n",
    "        b = p * e\n",
    "        \n",
    "        return v, e, p, b\n",
    "    \n",
    "    def dw_payeur(self, x_range, target=None):\n",
    "        \n",
    "        v, e, p, b = self.dynamics(x_range, target)\n",
    "        \n",
    "        # steady-state burst rate chosen for zero error \n",
    "        p_bar = self.sigma(self.beta * 0 + self.alpha)\n",
    "        \n",
    "        dw = x_range * (e * (p - p_bar))\n",
    "        return e, p, b, dw\n",
    "    "
   ]
  },
  {
   "cell_type": "code",
   "execution_count": 77,
   "metadata": {},
   "outputs": [],
   "source": [
    "# PARAMETERS\n",
    "params_act = {\n",
    "    'scale': 1.0,\n",
    "    'sharpness': 1.0,\n",
    "    'shift': 0.0\n",
    "}\n",
    "\n",
    "preact = jnp.linspace(0, 8, 1000)\n",
    "func = SoftReLu(**params_act)\n",
    "\n",
    "model = Payeur2021Circuit(act=func)\n",
    "model.wXE = np.array([1])"
   ]
  },
  {
   "cell_type": "code",
   "execution_count": 78,
   "metadata": {},
   "outputs": [
    {
     "data": {
      "image/png": "[encoded data removed]",
      "text/plain": [
       "<Figure size 160x150 with 1 Axes>"
      ]
     },
     "metadata": {},
     "output_type": "display_data"
    }
   ],
   "source": [
    "# Input\n",
    "preact = jnp.linspace(0, 5, 100)\n",
    "\n",
    "# Targets\n",
    "target_1 = 4.0\n",
    "target_2 = 3.0\n",
    "\n",
    "e1, p1, b1, dw_1 = model.dw_payeur(preact, target=target_1)\n",
    "e2, p2, b2, dw_2 = model.dw_payeur(preact, target=target_2)\n",
    "\n",
    "# Figure\n",
    "fig, ax = plt.subplots(1, 1, figsize=(1.6, 1.5))\n",
    "\n",
    "# First target\n",
    "ax.plot(e1, dw_1, label=r'$r^{\\mathrm{tar}} = $' + '{}'.format(target_1), lw=2, c=colors_targets[0])\n",
    "\n",
    "rEmin = e1.min()\n",
    "rEmax = e1.max()\n",
    "\n",
    "\n",
    "# Second target\n",
    "ax.plot(e2, dw_2, label=r'$r^{\\mathrm{tar}} = $' + '{}'.format(target_2), lw=2, c=colors_targets[1])\n",
    "\n",
    "rEmin = min(rEmin, e2.min())\n",
    "rEmax = max(rEmax, e2.max())\n",
    "\n",
    "ax.hlines(0, rEmin, rEmax, lw=2, linestyle='--', color='gray', zorder=0)\n",
    "\n",
    "ax.set_yticks([])\n",
    "ax.set_ylim(-2, 3)\n",
    "\n",
    "ax.set_xlabel('Event Rate '+ '[a.u.]')\n",
    "ax.set_ylabel(r'$\\Delta w$')\n",
    "\n",
    "plt.show()"
   ]
  },
  {
   "cell_type": "code",
   "execution_count": 79,
   "metadata": {},
   "outputs": [
    {
     "data": {
      "image/png": "[encoded data removed]",
      "text/plain": [
       "<Figure size 160x150 with 1 Axes>"
      ]
     },
     "metadata": {},
     "output_type": "display_data"
    }
   ],
   "source": [
    "# Input\n",
    "preact = jnp.linspace(0, 13, 100)\n",
    "\n",
    "e, p, b, dw = model.dw_payeur(preact, target=None)\n",
    "\n",
    "# Figure\n",
    "fig, ax = plt.subplots(1, 1, figsize=(1.6, 1.5))\n",
    "ax.plot(e, dw, label='dw', lw=2, c=color_fits[0])\n",
    "\n",
    "# Dashed line\n",
    "ax.hlines(0, e.min(), e.max(), lw=2, linestyle='--', color='gray', zorder=0)\n",
    "\n",
    "ax.set_yticks([])\n",
    "ax.set_ylim(-5, 12)\n",
    "ax.set_xlabel('Event Rate '+ '[a.u.]')\n",
    "\n",
    "plt.show()"
   ]
  },
  {
   "cell_type": "markdown",
   "metadata": {},
   "source": [
    "# 4. Greedy et al. (2022)"
   ]
  },
  {
   "cell_type": "code",
   "execution_count": 80,
   "metadata": {},
   "outputs": [],
   "source": [
    "class Greedy2022Circuit:\n",
    "    \n",
    "    wXE: float = 1.0    # input -> e weight\n",
    "    wEO: float = 1.0    # e -> output weight\n",
    "    wY: float = 1.0     # feedback STF (inhibitory) weights\n",
    "    alpha: float = 4.0  \n",
    "    beta: float = 0.0\n",
    "    \n",
    "    # Solver\n",
    "    dt = 1/50               # 1/tau\n",
    "    n_solver = 600          # number of solver steps\n",
    "        \n",
    "    def __init__(self, act) -> None:\n",
    "        self.act = act\n",
    "        \n",
    "        # sigmoid function\n",
    "        self.sigma = lambda x: 1 / (1 + np.exp(-x))\n",
    "        self.sigma_bar = lambda x: self.sigma(self.alpha * x + self.beta)\n",
    "        \n",
    "    def dynamics(self, x, target = None):    \n",
    "        \n",
    "        # event rate of hidden layer\n",
    "        v = self.wXE * x\n",
    "        e = self.act(v)\n",
    "        h = self.act.deriv(v) * 1 / e\n",
    "        \n",
    "        # event rate & burst probability of output layer\n",
    "        v_out = self.wEO * e \n",
    "        e_out = self.act(v_out)\n",
    "        h_out = self.act.deriv(v_out) * 1 / e_out\n",
    "        \n",
    "        # output error\n",
    "        if target is not None:\n",
    "            error = target - e_out\n",
    "        else:\n",
    "            error = 0\n",
    "            \n",
    "        # requires to invert the error \n",
    "        error = -error\n",
    "        \n",
    "        # output burst probability\n",
    "        p_b = self.sigma_bar(0)\n",
    "        p_out = p_b + p_b * error * h_out\n",
    "        b_out = e_out * p_out\n",
    "        \n",
    "        # apical potential in previous layer\n",
    "        wQ = p_b * self.wY\n",
    "        u = wQ * e_out - self.wY * b_out\n",
    "        \n",
    "        # burst probabilities\n",
    "        p = self.sigma_bar(u * h)\n",
    "        \n",
    "        return e, p\n",
    "    \n",
    "    def dw_greedy(self, x_range, target=None):\n",
    "        \n",
    "        e, p = self.dynamics(x_range, target)\n",
    "        p_b = self.sigma(self.alpha * 0 + self.beta)\n",
    "        \n",
    "        dw = x_range * (e * (p - p_b))\n",
    "        return e, p, dw\n",
    "    \n",
    "    def dw_greedy_poissonlike(self, x_range, target=None):\n",
    "        \n",
    "        e, p = self.dynamics(x_range, target)\n",
    "        p_b = self.sigma(self.alpha * 0 + self.beta)\n",
    "        \n",
    "        # make p a function of even rate as well as apical p to simulate poisson statistics in the firing rate\n",
    "        p = 1.6 * (1 - np.exp(-e/10)) * p \n",
    "        \n",
    "        dw = x_range * (e * (p - p_b))\n",
    "        return e, p, dw\n",
    "    "
   ]
  },
  {
   "cell_type": "code",
   "execution_count": 81,
   "metadata": {},
   "outputs": [],
   "source": [
    "# PARAMETERS\n",
    "params_act = {\n",
    "    'scale': 1.0,\n",
    "    'sharpness': 1.0,\n",
    "    'shift': 0.0\n",
    "}\n",
    "\n",
    "preact = jnp.linspace(0, 8, 1000)\n",
    "func = SoftReLu(**params_act)\n",
    "\n",
    "model = Greedy2022Circuit(act=func)\n",
    "model.wXE = np.array([1])"
   ]
  },
  {
   "cell_type": "code",
   "execution_count": 82,
   "metadata": {},
   "outputs": [
    {
     "data": {
      "image/png": "[encoded data removed]",
      "text/plain": [
       "<Figure size 160x150 with 1 Axes>"
      ]
     },
     "metadata": {},
     "output_type": "display_data"
    }
   ],
   "source": [
    "# Input\n",
    "preact = jnp.linspace(0, 5, 100)\n",
    "\n",
    "# Targets\n",
    "target_1 = 4.0\n",
    "target_2 = 3.0\n",
    "\n",
    "e1, p1, dw_1 = model.dw_greedy(preact, target=target_1)\n",
    "e2, p2, dw_2 = model.dw_greedy(preact, target=target_2)\n",
    "\n",
    "# Figure\n",
    "fig, ax = plt.subplots(1, 1, figsize=(1.6, 1.5))\n",
    "\n",
    "# First target\n",
    "ax.plot(e1, dw_1, label=r'$r^{\\mathrm{tar}} = $' + '{}'.format(target_1), lw=2, c=colors_targets[0])\n",
    "\n",
    "rEmin = e1.min()\n",
    "rEmax = e1.max()\n",
    "\n",
    "\n",
    "# Second target\n",
    "ax.plot(e2, dw_2, label=r'$r^{\\mathrm{tar}} = $' + '{}'.format(target_2), lw=2, c=colors_targets[1])\n",
    "\n",
    "rEmin = min(rEmin, e2.min())\n",
    "rEmax = max(rEmax, e2.max())\n",
    "\n",
    "ax.hlines(0, rEmin, rEmax, lw=2, linestyle='--', color='gray', zorder=0)\n",
    "\n",
    "ax.set_yticks([])\n",
    "ax.set_ylim(-2, 3)\n",
    "\n",
    "ax.set_xlabel('Event Rate '+ '[a.u.]')\n",
    "ax.set_ylabel(r'$\\Delta w$')\n",
    "\n",
    "plt.show()"
   ]
  },
  {
   "cell_type": "code",
   "execution_count": 83,
   "metadata": {},
   "outputs": [
    {
     "data": {
      "image/png": "[encoded data removed]",
      "text/plain": [
       "<Figure size 160x150 with 1 Axes>"
      ]
     },
     "metadata": {},
     "output_type": "display_data"
    }
   ],
   "source": [
    "# Input\n",
    "preact = jnp.linspace(0, 13, 100)\n",
    "\n",
    "e, p, dw = model.dw_greedy(preact, target=None)\n",
    "\n",
    "# Figure\n",
    "fig, ax = plt.subplots(1, 1, figsize=(1.6, 1.5))\n",
    "ax.plot(e, dw, label='dw', lw=2, c=color_fits[0])\n",
    "\n",
    "# Dashed line\n",
    "ax.hlines(0, e.min(), e.max(), lw=2, linestyle='--', color='gray', zorder=0)\n",
    "\n",
    "ax.set_yticks([])\n",
    "ax.set_ylim(-5, 12)\n",
    "ax.set_xlabel('Event Rate '+ '[a.u.]')\n",
    "\n",
    "plt.show()"
   ]
  },
  {
   "cell_type": "code",
   "execution_count": 84,
   "metadata": {},
   "outputs": [
    {
     "data": {
      "image/png": "[encoded data removed]",
      "text/plain": [
       "<Figure size 160x150 with 2 Axes>"
      ]
     },
     "metadata": {},
     "output_type": "display_data"
    }
   ],
   "source": [
    "fig, ax = plt.subplots(1, 1, figsize=(1.6, 1.5))\n",
    "\n",
    "# Input\n",
    "preact = jnp.linspace(0, 25, 100)\n",
    "\n",
    "# Inhibition targeting the apical dendrite would not influence the firing rate at all, but does influence plasticity\n",
    "list_rI = np.linspace(0, 3, 4)\n",
    "colormap = mcp.gen_color(cmap='Blues_r', n=len(list_rI)+2)\n",
    "labels = list_rI\n",
    "\n",
    "for rI_idx, rI in enumerate(list_rI):\n",
    "    \n",
    "    # event rate of hidden layer\n",
    "    v = model.wXE * preact\n",
    "    e = model.act(v)\n",
    "    h = model.act.deriv(v) * 1 / e\n",
    "    \n",
    "    # apical input proportional to -rI\n",
    "    u = -rI\n",
    "    p = model.sigma_bar(u * h)\n",
    "    p = 1.6 * (1 - np.exp(-e/10)) * p   # make burst probability a function of the event rate to simulate poisson statistics\n",
    "    p_b = model.sigma_bar(0)\n",
    "    \n",
    "    dw = preact * (e * (p - p_b))\n",
    "    \n",
    "    ax.plot(e, dw, label=labels[rI_idx], color=colormap[rI_idx], lw=2)\n",
    "\n",
    "ax.hlines(0, e.min(), e.max(), lw=2, linestyle='--', color='gray', zorder=0)\n",
    "    \n",
    "divider = make_axes_locatable(ax)\n",
    "cax = divider.append_axes('right', size='5%', pad=0.05)\n",
    "norm = mpl.colors.Normalize(vmin=list_rI.min(), vmax=list_rI.max())\n",
    "cbarMap = mpl.cm.ScalarMappable(cmap=mpl.cm.Blues_r, norm = norm)\n",
    "fig.colorbar(cbarMap, cax=cax, orientation='vertical')\n",
    "cax.set_ylabel(r'$r^{(inh)}$')\n",
    "\n",
    "ax.set_xlabel(r'Poisson rate ' + '[a.u.]')\n",
    "ax.set_yticks([])\n",
    "\n",
    "plt.show()"
   ]
  },
  {
   "cell_type": "code",
   "execution_count": null,
   "metadata": {},
   "outputs": [],
   "source": []
  }
 ],
 "metadata": {
  "kernelspec": {
   "display_name": "in-control",
   "language": "python",
   "name": "python3"
  },
  "language_info": {
   "codemirror_mode": {
    "name": "ipython",
    "version": 3
   },
   "file_extension": ".py",
   "mimetype": "text/x-python",
   "name": "python",
   "nbconvert_exporter": "python",
   "pygments_lexer": "ipython3",
   "version": "3.8.10"
  },
  "orig_nbformat": 4
 },
 "nbformat": 4,
 "nbformat_minor": 2
}
