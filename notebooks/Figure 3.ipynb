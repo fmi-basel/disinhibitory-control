{
 "cells": [
  {
   "cell_type": "code",
   "execution_count": 19,
   "metadata": {},
   "outputs": [],
   "source": [
    "import numpy as np\n",
    "import jax.numpy as jnp\n",
    "\n",
    "import os\n",
    "os.environ['CUDA_VISIBLE_DEVICES'] = \"\"\n",
    "\n",
    "# PLOTTING\n",
    "import matplotlib as mpl \n",
    "import matplotlib.pyplot as plt\n",
    "mpl.style.use('spiffy')\n",
    "from mpl_toolkits.axes_grid1 import make_axes_locatable\n",
    "from mycolorpy import colorlist as mcp\n",
    "\n",
    "from src.core.activation import SoftReLu"
   ]
  },
  {
   "cell_type": "code",
   "execution_count": 20,
   "metadata": {},
   "outputs": [],
   "source": [
    "colors_targets = ['#E09F1F', '#907245']\n",
    "color_fits = ['#00C9B3', '#005B4E']"
   ]
  },
  {
   "cell_type": "code",
   "execution_count": 21,
   "metadata": {},
   "outputs": [],
   "source": [
    "class ExcInhMicroCircuit:\n",
    "        \n",
    "    wXE: float = 1.0\n",
    "    wXI: float = 0.0\n",
    "    wIE: float = 1.0\n",
    "    wEI: float = 1.0\n",
    "    \n",
    "    # Solver\n",
    "    dt = 1/50               # 1/tau\n",
    "    n_solver = 600          # number of solver steps\n",
    "    \n",
    "    alpha = 5.0\n",
    "    \n",
    "    def __init__(self, actE, actI) -> None:\n",
    "        self.actE = actE\n",
    "        self.actI = actI\n",
    "            \n",
    "    def vectorfield(self, state, t, x, target = None):    \n",
    "        ue, ui = state\n",
    "        \n",
    "        due = -ue - self.wIE * self.actI(ui) + self.wXE * x\n",
    "        dui = -ui + self.wEI * self.actE(ue) + self.wXI * x\n",
    "\n",
    "        if target is not None:\n",
    "            out = self.actE(ue)\n",
    "            error = target - out\n",
    "            dui -= self.alpha * error\n",
    "            \n",
    "        return np.array([due, dui])\n",
    "            \n",
    "    def solve_euler(self, x, target = None):\n",
    "        \n",
    "        # check if x is a scalar\n",
    "        if np.isscalar(x):\n",
    "            u = np.array([0, 0])            \n",
    "        # otherwise x is a vector\n",
    "        else:\n",
    "            u = np.array([np.zeros(len(x)), np.zeros(len(x))])\n",
    "        \n",
    "        t = 0\n",
    "        for i in range(self.n_solver):\n",
    "            u = u + self.dt * self.vectorfield(u, t, x, target)\n",
    "            t = t + self.dt  \n",
    "            \n",
    "        return u\n",
    "    \n",
    "    def traj_euler(self, x, target = None, u0 = None):\n",
    "        \n",
    "        # check if x is a scalar\n",
    "        if np.isscalar(x):\n",
    "            u = np.array([0, 0])            \n",
    "        # otherwise x is a vector\n",
    "        else:\n",
    "            u = np.array([np.zeros(len(x)), np.zeros(len(x))])\n",
    "        \n",
    "        t = 0\n",
    "        us = [u]\n",
    "        ts = [t]\n",
    "        \n",
    "        for i in range(self.n_solver):\n",
    "            u = u + self.dt * self.vectorfield(u, t, x, target)\n",
    "            t = t + self.dt  \n",
    "            us.append(u)\n",
    "            ts.append(t)\n",
    "            \n",
    "        return np.array(ts), np.array(us)\n",
    "\n",
    "    def dw_exact(self, x_range, target=None):\n",
    "        \n",
    "        state = self.solve_euler(x_range, target=target)\n",
    "        ue, ui = state\n",
    "        rE = self.actE(ue)\n",
    "        rI = self.actI(ui)\n",
    "        dw = x_range * (self.wEI * rE - self.actI.inv(rI)) * self.actE.deriv(ue)\n",
    "        \n",
    "        return state, dw\n",
    "    \n",
    "    def dw_inv_lin(self, x_range, theta, delta, target=None):\n",
    "        \n",
    "        state = self.solve_euler(x_range, target=target)\n",
    "        ue, ui = state\n",
    "        rE = self.actE(ue)\n",
    "        rI = self.actI(ui)\n",
    "        dw = x_range * (self.wEI * rE - lin_model(rI, theta, delta)) * self.actE.deriv(ue)\n",
    "        \n",
    "        return state, dw\n",
    "    \n",
    "def lin_model(y, theta, delta):\n",
    "    return theta + delta * y\n",
    "    "
   ]
  },
  {
   "cell_type": "code",
   "execution_count": 22,
   "metadata": {},
   "outputs": [],
   "source": [
    "# PARAMETERS\n",
    "params_act = {\n",
    "    'scale': 1.0,\n",
    "    'sharpness': 1.0,\n",
    "    'shift': 3.0\n",
    "}\n",
    "\n",
    "preact = jnp.linspace(0, 8, 1000)\n",
    "\n",
    "# FITTING RESULTS\n",
    "theta = 1.5\n",
    "delta = 1.5\n",
    "\n",
    "theta2 = 0.9\n",
    "delta2 = 1.8"
   ]
  },
  {
   "attachments": {},
   "cell_type": "markdown",
   "metadata": {},
   "source": [
    "# INSET: Inverse activation function and linear approximation thereof"
   ]
  },
  {
   "cell_type": "code",
   "execution_count": 23,
   "metadata": {},
   "outputs": [
    {
     "data": {
      "image/png": "[encoded data removed]",
      "text/plain": [
       "<Figure size 75x60 with 1 Axes>"
      ]
     },
     "metadata": {},
     "output_type": "display_data"
    }
   ],
   "source": [
    "# MODEL\n",
    "func = SoftReLu(**params_act)\n",
    "act = func(preact)\n",
    "deriv = func.deriv(preact)\n",
    "inv = func.inv(act)\n",
    "inv_lin = lin_model(act, theta, delta)\n",
    "inv_lin2 = lin_model(act, theta2, delta2)\n",
    "\n",
    "fig, ax = plt.subplots(1, 1, figsize=(0.75, 0.6))\n",
    "\n",
    "ax.plot(act, inv, label='Inverse', lw=1, c='k')\n",
    "ax.plot(act, inv_lin, label='Linear approximation', lw=1, c=color_fits[0])\n",
    "ax.plot(act, inv_lin2, label='Linear approximation', lw=1, c=color_fits[1])\n",
    "\n",
    "ax.set_xlabel(r'$r^{\\mathrm{I}}$', fontsize=6)\n",
    "ax.set_ylabel(r'$u^{\\mathrm{I}}$', fontsize=6)\n",
    "ax.set_xticks([])\n",
    "ax.set_yticks([])\n",
    "\n",
    "plt.show()"
   ]
  },
  {
   "attachments": {},
   "cell_type": "markdown",
   "metadata": {},
   "source": [
    "# Panel A: Microcircuit with top-down control"
   ]
  },
  {
   "cell_type": "code",
   "execution_count": 24,
   "metadata": {},
   "outputs": [],
   "source": [
    "params_act_E = {\n",
    "    'scale': 1.0,\n",
    "    'sharpness': 1.0,\n",
    "    'shift': 3.0\n",
    "}\n",
    "\n",
    "params_act_I = {\n",
    "    'scale': 1.0,\n",
    "    'sharpness': 1.0,\n",
    "    'shift': 3.0\n",
    "}\n",
    "\n",
    "funcE = SoftReLu(**params_act_E)\n",
    "funcI = SoftReLu(**params_act_I)\n",
    "\n",
    "model = ExcInhMicroCircuit(actE=funcE, actI=funcI)\n",
    "model.wXE = np.array([1])"
   ]
  },
  {
   "cell_type": "code",
   "execution_count": 25,
   "metadata": {},
   "outputs": [
    {
     "data": {
      "image/png": "[encoded data removed]",
      "text/plain": [
       "<Figure size 160x150 with 1 Axes>"
      ]
     },
     "metadata": {},
     "output_type": "display_data"
    }
   ],
   "source": [
    "# Input\n",
    "preact = jnp.linspace(0, 10, 100)\n",
    "\n",
    "# Targets\n",
    "target_1 = 4.0\n",
    "target_2 = 3.0\n",
    "\n",
    "state_1, dw_1 = model.dw_inv_lin(preact, theta, delta, target=target_1)\n",
    "state_2, dw_2 = model.dw_inv_lin(preact, theta, delta, target=target_2)\n",
    "\n",
    "# Figure\n",
    "fig, ax = plt.subplots(1, 1, figsize=(1.6, 1.5))\n",
    "\n",
    "# First target\n",
    "uE, uI = state_1\n",
    "rE = model.actE(uE)\n",
    "rI = model.actI(uI)\n",
    "ax.plot(rE, dw_1, label=r'$r^{\\mathrm{tar}} = $' + '{}'.format(target_1), lw=2, c=colors_targets[0])\n",
    "\n",
    "# Dashed line\n",
    "ax.hlines(0, rE.min(), rE.max(), lw=2, linestyle='--', color='gray', zorder=0)\n",
    "\n",
    "# Second target\n",
    "uE, uI = state_2\n",
    "rE = model.actE(uE)\n",
    "rI = model.actI(uI)\n",
    "\n",
    "ax.plot(rE, dw_2, label=r'$r^{\\mathrm{tar}} = $' + '{}'.format(target_2), lw=2, c=colors_targets[1])\n",
    "\n",
    "ax.set_yticks([])\n",
    "ax.set_ylim(-5, 12)\n",
    "\n",
    "ax.set_xlabel('Firing rate ' + r'$r^{\\mathrm{E}}$'+ '[a.u.]')\n",
    "ax.set_ylabel(r'$\\Delta w$')\n",
    "\n",
    "ax.legend(fontsize=7, loc='upper left', bbox_to_anchor=(0.0, 1.0), frameon=False, borderpad=0.1, handletextpad=0.3, handlelength=1.0)\n",
    "\n",
    "plt.show()"
   ]
  },
  {
   "cell_type": "markdown",
   "metadata": {},
   "source": [
    "# Panel B: Microcircuit without target"
   ]
  },
  {
   "cell_type": "code",
   "execution_count": 26,
   "metadata": {},
   "outputs": [
    {
     "data": {
      "image/png": "[encoded data removed]",
      "text/plain": [
       "<Figure size 160x150 with 1 Axes>"
      ]
     },
     "metadata": {},
     "output_type": "display_data"
    }
   ],
   "source": [
    "# Input\n",
    "preact = jnp.linspace(0, 13, 100)\n",
    "\n",
    "state, dw = model.dw_inv_lin(preact, theta, delta, target=None)\n",
    "state2, dw2 = model.dw_inv_lin(preact, theta2, delta2, target=None)\n",
    "\n",
    "# Figure\n",
    "fig, ax = plt.subplots(1, 1, figsize=(1.6, 1.5))\n",
    "\n",
    "uE, uI = state\n",
    "rE = model.actE(uE)\n",
    "rI = model.actI(uI)\n",
    "ax.plot(rE, dw, label='dw', lw=2, c=color_fits[0])\n",
    "\n",
    "uE, uI = state2\n",
    "rE = model.actE(uE)\n",
    "rI = model.actI(uI)\n",
    "ax.plot(rE, dw2, label='dw', lw=2, c=color_fits[1])\n",
    "\n",
    "# Dashed line\n",
    "ax.hlines(0, rE.min(), rE.max(), lw=2, linestyle='--', color='gray', zorder=0)\n",
    "\n",
    "ax.set_yticks([])\n",
    "ax.set_ylim(-5, 12)\n",
    "ax.set_xlabel('Firing rate ' + r'$r^{\\mathrm{E}}$'+ '[a.u.]')\n",
    "\n",
    "plt.show()"
   ]
  },
  {
   "attachments": {},
   "cell_type": "markdown",
   "metadata": {},
   "source": [
    "# Panel C: Isolated Neuron"
   ]
  },
  {
   "cell_type": "code",
   "execution_count": 27,
   "metadata": {},
   "outputs": [
    {
     "data": {
      "image/png": "[encoded data removed]",
      "text/plain": [
       "<Figure size 160x150 with 2 Axes>"
      ]
     },
     "metadata": {},
     "output_type": "display_data"
    }
   ],
   "source": [
    "preact = jnp.linspace(0, 9, 100)\n",
    "\n",
    "# Figure\n",
    "fig, ax = plt.subplots(1, 1, figsize=(1.6, 1.5))\n",
    "\n",
    "list_rI = np.linspace(0.01, 2, 4)\n",
    "colormap = mcp.gen_color(cmap='Blues_r', n=len(list_rI)+2)\n",
    "labels = list_rI\n",
    "\n",
    "uE = preact\n",
    "rE = model.actE(uE)\n",
    "\n",
    "for rI_idx, rI in enumerate(list_rI):\n",
    "    dw = preact * model.actE.deriv(uE) * (rE - lin_model(rI, theta, delta))\n",
    "    ax.plot (rE, dw, label=labels[rI_idx], color=colormap[rI_idx], lw=2)\n",
    "ax.hlines(0, rE.min(), rE.max(), lw=2, linestyle='--', color='gray', zorder=0)\n",
    "    \n",
    "divider = make_axes_locatable(ax)\n",
    "cax = divider.append_axes('right', size='5%', pad=0.05)\n",
    "norm = mpl.colors.Normalize(vmin=list_rI.min(), vmax=list_rI.max())\n",
    "cbarMap = mpl.cm.ScalarMappable(cmap=mpl.cm.Blues_r, norm = norm)\n",
    "fig.colorbar(cbarMap, cax=cax, orientation='vertical')\n",
    "cax.set_ylabel('Inh. firing rate ' + r'$r^{\\mathrm{I}}$')\n",
    "\n",
    "ax.set_xlabel('Firing rate ' + r'$r^{\\mathrm{E}}$' + '[a.u.]')\n",
    "#ax.set_ylabel(r'$\\Delta w$')\n",
    "\n",
    "ax.set_yticks([])\n",
    "ax.set_ylim(-12, 12)\n",
    "\n",
    "plt.show()"
   ]
  },
  {
   "cell_type": "code",
   "execution_count": null,
   "metadata": {},
   "outputs": [],
   "source": []
  }
 ],
 "metadata": {
  "kernelspec": {
   "display_name": "in-control",
   "language": "python",
   "name": "python3"
  },
  "language_info": {
   "codemirror_mode": {
    "name": "ipython",
    "version": 3
   },
   "file_extension": ".py",
   "mimetype": "text/x-python",
   "name": "python",
   "nbconvert_exporter": "python",
   "pygments_lexer": "ipython3",
   "version": "3.8.10"
  },
  "orig_nbformat": 4
 },
 "nbformat": 4,
 "nbformat_minor": 2
}
